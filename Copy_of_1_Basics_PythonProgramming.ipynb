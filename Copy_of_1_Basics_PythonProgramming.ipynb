{
  "nbformat": 4,
  "nbformat_minor": 0,
  "metadata": {
    "colab": {
      "provenance": [],
      "toc_visible": true,
      "include_colab_link": true
    },
    "kernelspec": {
      "name": "python3",
      "display_name": "Python 3"
    },
    "language_info": {
      "name": "python"
    }
  },
  "cells": [
    {
      "cell_type": "markdown",
      "metadata": {
        "id": "view-in-github",
        "colab_type": "text"
      },
      "source": [
        "<a href=\"https://colab.research.google.com/github/yashicakapur/Lesson-1-machine-learning/blob/main/Copy_of_1_Basics_PythonProgramming.ipynb\" target=\"_parent\"><img src=\"https://colab.research.google.com/assets/colab-badge.svg\" alt=\"Open In Colab\"/></a>"
      ]
    },
    {
      "cell_type": "markdown",
      "source": [
        "# Python - Hands-on crash course\n",
        "\n",
        "- Python is a general-purpose programming language that's used to create software, websites, and automate tasks.\n",
        "- It's known for being easy to learn and use, and is often used as a first programming language\n",
        "- What Python is used for\n",
        "  - Data analysis: Python's built-in data structures make it useful for analyzing data\n",
        "  - Web development: Python can be used to build websites\n",
        "  - Machine learning: Python can be used for machine learning\n",
        "  - Scripting: Python's elegant syntax makes it ideal for scripting\n",
        "  - Rapid application development: Python's dynamic typing and interpreted nature make it ideal for rapid application development\n",
        "  - More...\n",
        "\n",
        "\n",
        "References:\n",
        "1. Python Tutorial - https://docs.python.org/3/tutorial/index.html\n",
        "2. Python for Beginners - Full Course (Programming Tutorial) - freeCodeCamp.org - https://www.youtube.com/watch?v=eWRfhZUzrAc"
      ],
      "metadata": {
        "id": "64UlNL63wa-N"
      }
    },
    {
      "cell_type": "markdown",
      "source": [
        "### Variables"
      ],
      "metadata": {
        "id": "yLPD15YHN7wS"
      }
    },
    {
      "cell_type": "code",
      "source": [
        "# This is an example of a single-line comment\n",
        "\n",
        "'''\n",
        "This is an example of a multi-line comment.\n",
        "It can span multiple lines.\n",
        "'''\n",
        "\n",
        "# Variables and Data Types\n",
        "# Variables are used to store data.  Python is dynamically typed, meaning you don't explicitly declare the type.\n",
        "# It is recommended to give variables meaningful names to improve code readability.\n",
        "\n",
        "name = \"Alice\"  # String\n",
        "age = 22        # Integer\n",
        "height = 5.25    # Float\n",
        "is_student = True # Boolean\n",
        "\n",
        "# Printing variables\n",
        "print(\"Name:\", name)\n",
        "print(\"Age:\", age)\n",
        "print(\"Height:\", height)\n",
        "print(\"Is student:\", is_student)\n",
        "\n",
        "print(f\"Hello, My name is {name} and I'm {age} years old. My height is {height}ft and I am a student: {is_student}\")    # f-string = formatted strings\n",
        "\n",
        "print(\"\")   # prints an empty line\n",
        "\n",
        "# However, it is strongly recommended to develop the habit of explicitly 'typing' variables to improve readability of code\n",
        "# Note The Python runtime does not enforce function and variable type annotations. They can be used by third party tools such as type checkers, IDEs, linters, etc.\n",
        "name: str = \"John Doe\"\n",
        "age: int = 20\n",
        "height: float = 5.5\n",
        "is_student: bool = False\n",
        "\n",
        "# Printing variables\n",
        "print(\"Name:\", name)\n",
        "print(\"Age:\", age)\n",
        "print(\"Height:\", height)\n",
        "print(\"Is student:\", is_student)\n",
        "\n",
        "print(f\"Hello, My name is {name} and I'm {age} years old. My height is {height}ft and I am a student: {is_student}\")    # f-string = formatted strings\n"
      ],
      "metadata": {
        "id": "1YlUVA3jwKmE"
      },
      "execution_count": null,
      "outputs": []
    },
    {
      "cell_type": "markdown",
      "source": [
        "### Operators"
      ],
      "metadata": {
        "id": "qVlENy7dODo-"
      }
    },
    {
      "cell_type": "code",
      "source": [
        "# 2. Operators\n",
        "a = 10\n",
        "b = 5\n",
        "c = 4\n",
        "d = 3\n",
        "e = 2\n",
        "\n",
        "# Arithmetic operators: +, -, *, /, // (floor division), % (modulo), ** (exponentiation)\n",
        "result = a + b\n",
        "print(f\"Sum of {a} and {b} is {result}\")\n",
        "\n",
        "result = a - c\n",
        "print(f\"Difference between {a} and {c} is {result}\")\n",
        "\n",
        "result = a * c\n",
        "print(f\"Product of {a} and {c} is {result}\")\n",
        "\n",
        "result = a / d\n",
        "print(f\"Division of {a} into {d} is {result}\")\n",
        "\n",
        "result = a // d\n",
        "print(f\"Floor Division of {a} into {d} is {result}\")\n",
        "\n",
        "result = a % d\n",
        "print(f\"Modulo of {a} and {d} is {result}\")\n",
        "\n",
        "result = e ** d\n",
        "print(f\"Exponentiation of {e} to the power {d} is {result}\")\n",
        "\n",
        "print(\"\")\n",
        "\n",
        "\n",
        "# Comparison operators: ==, !=, >, <, >=, <=\n",
        "print(f\"Is {a} equal to {b}?\", a == b)\n",
        "print(f\"Is {a} not equal to {b}?\", a != b)\n",
        "print(f\"Is {a} greater than {b}?\", a > b)\n",
        "print(f\"Is {c} less than {e}?\", c < e)\n",
        "print(f\"Is {a} greater than or equal to {b}?\", a >= b)\n",
        "print(f\"Is {c} less than or equal to {e}?\", c <= e)\n",
        "\n",
        "print(\"\")\n",
        "\n",
        "\n",
        "# Logical operators: and, or, not\n",
        "print(\"True and False:\", True and False)\n",
        "print(\"False and True:\", False and True)\n",
        "print(\"True and True:\", True and True)\n",
        "print(\"False and False:\", False and False)\n",
        "print(\"\")\n",
        "print(\"True or False:\", True or False)\n",
        "print(\"False or True:\", False or True)\n",
        "print(\"True or True:\", True or True)\n",
        "print(\"False or False:\", False or False)\n",
        "print(\"\")\n",
        "print(\"not True:\", not True)\n",
        "print(\"not False:\", not False)\n",
        "\n",
        "\n",
        "print(\"Works like boolean, but not a recommended practice!\")\n",
        "print(\"1 and 0:\", 1 and 0)\n",
        "print(\"0 and 1:\", 0 and 1)\n",
        "print(\"1 and 1:\", 1 and 1)\n",
        "print(\"0 and 0:\", 0 and 0)\n",
        "print(\"\")\n",
        "print(\"1 or 0:\", 1 or 0)\n",
        "print(\"0 or 1:\", 0 or 1)\n",
        "print(\"1 or 1:\", 1 or 1)\n",
        "print(\"0 or 0:\", 0 or 0)\n",
        "print(\"\")\n",
        "print(\"not 1:\", not 1)\n",
        "print(\"not 0:\", not 0)"
      ],
      "metadata": {
        "id": "4x57T4utCmxG"
      },
      "execution_count": null,
      "outputs": []
    },
    {
      "cell_type": "markdown",
      "source": [
        "### Control flow"
      ],
      "metadata": {
        "id": "-42IodhQOGH7"
      }
    },
    {
      "cell_type": "code",
      "source": [
        "# 3. Control Flow (if-else statements)\n",
        "# if-else statements allow you to execute different blocks of code based on conditions.\n",
        "\n",
        "score = 85\n",
        "print(\"Your score is \" + str(score))\n",
        "\n",
        "if score >= 90:\n",
        "  print(\"Your grade is A\")\n",
        "  print(\"⭐⭐⭐⭐⭐ Congratulations!\")\n",
        "elif score >= 80:\n",
        "  print(\"Your grade is B\")\n",
        "  print(\"⭐⭐⭐ Good job!\")\n",
        "elif score >= 70:\n",
        "  print(\"Your grade is C\")\n",
        "  print(\"⭐ Keep doing better!\")\n",
        "else:\n",
        "  print(\"Grade C or below\")\n",
        "  print(\"⚠️ You need to work harder!\")\n"
      ],
      "metadata": {
        "id": "rDlQShrhwst6"
      },
      "execution_count": null,
      "outputs": []
    },
    {
      "cell_type": "markdown",
      "source": [
        "### Data structures"
      ],
      "metadata": {
        "id": "LaUdTrZQOLE2"
      }
    },
    {
      "cell_type": "code",
      "source": [
        "# 4. Data Structures\n",
        "\n",
        "# Lists: Ordered, mutable sequences of items. Can contain different values of different datatypes (not recommended practice though!)\n",
        "my_list = [1, 2, 3, \"apple\", True]\n",
        "print(f\"List element is {my_list[0]}\")  # Accessing elements by index\n",
        "\n",
        "# search for a value in the list\n",
        "if 2 in my_list:\n",
        "  print(\"2 is in the list\")\n",
        "else:\n",
        "  print(\"2 is not in the list\")\n",
        "\n",
        "\n",
        "# Tuples: Ordered, immutable sequences.\n",
        "my_tuple = (1, 2, 3)\n",
        "print(f\"\\nList element is {my_tuple[1]}\")\n",
        "\n",
        "\n",
        "# Dictionaries: Key-value pairs.\n",
        "my_dict = {\"name\": \"Bob\", \"age\": 25, \"city\": \"New York\"}\n",
        "print(f\"\\nList element is {my_dict['name']}\") # Accessing value using key\n",
        "\n",
        "if \"age\" in my_dict:\n",
        "  print(\"Age is in the dictionary\")\n",
        "else:\n",
        "  print(\"Age is not in the dictionary\")\n",
        "\n",
        "if \"Greg\" in my_dict.values():\n",
        "  print(\"Greg is in the dictionary\")\n",
        "else:\n",
        "  print(\"Greg is not in the dictionary\")\n",
        "\n",
        "print(f\"Keys in the dictionary:\", my_dict.keys())\n",
        "print(f\"Values in the dictionary:\", my_dict.values())\n",
        "\n",
        "# Sets: Unordered collections of unique elements.\n",
        "my_set = {1, 2, 2, 3} # Duplicates are automatically removed\n",
        "print(f\"\\nSet is {my_set}\")\n"
      ],
      "metadata": {
        "id": "_A2cwwd4w2xE"
      },
      "execution_count": null,
      "outputs": []
    },
    {
      "cell_type": "markdown",
      "source": [
        "### Loops"
      ],
      "metadata": {
        "id": "NAQUxRQYON5-"
      }
    },
    {
      "cell_type": "code",
      "source": [
        "# 5. Loops (for and while loops)\n",
        "# For loop - iterates over a sequence (list, tuple, string, etc.)\n",
        "\n",
        "print(\"For loop over a list:\")\n",
        "fruits = [\"apple\", \"banana\", \"cherry\"]\n",
        "for fruit in fruits:\n",
        "  print(fruit)\n",
        "\n",
        "print(\"\\nFor loop over numbers using (start, stop, increment):\")\n",
        "for i in range(0, 10, 2):\n",
        "    print(i)\n",
        "\n",
        "print(\"\\nFor loop over numbers using (stop):\")\n",
        "for i in range(5):\n",
        "    print(i)\n",
        "\n",
        "print(\"\\nFor loop over numbers using (start, stop):\")\n",
        "for i in range(3, 5):\n",
        "    print(i)\n",
        "\n",
        "# Yes, a string behaves like a list of characters\n",
        "print(\"\\nFor loop over a string:\")\n",
        "for char in \"HeLlO_WoRlD!\":\n",
        "  print(char)\n",
        "\n",
        "print(\"\\nWhile loop:\")\n",
        "# While loop - repeats a block of code as long as a condition is true.\n",
        "count = 0\n",
        "while count < 5:\n",
        "  print(\"Count:\", count)\n",
        "  count += 1\n",
        "\n",
        "# Caution: A while loop without clear termination condition will run until forcefully terminated by user"
      ],
      "metadata": {
        "id": "VuYmWds8wyp2"
      },
      "execution_count": null,
      "outputs": []
    },
    {
      "cell_type": "markdown",
      "source": [
        "### Functions"
      ],
      "metadata": {
        "id": "6Hj3-AZMOP7S"
      }
    },
    {
      "cell_type": "code",
      "source": [
        "# 6. Functions\n",
        "\n",
        "# Functions are reusable blocks of code.\n",
        "def greet(name):\n",
        "  print(\"Hello, \" + name + \"!\\n\")\n",
        "\n",
        "greet(\"Alice\") # Calling the function\n",
        "\n",
        "\n",
        "# Function to calculate n-factorial\n",
        "def factorial(n):\n",
        "  if n == 0:\n",
        "    return 1\n",
        "  else:\n",
        "    result = 1\n",
        "    for i in range(1, n + 1):\n",
        "      result *= i\n",
        "    return result\n",
        "\n",
        "print(f\"Factorial of 2 is\", factorial(2)) # Calling the function\n",
        "print(f\"Factorial of 3 is\", factorial(3)) # Calling the function\n",
        "print(f\"Factorial of 4 is\", factorial(4)) # Calling the function\n",
        "print(f\"Factorial of 10 is\", factorial(10)) # Calling the function\n",
        "print(f\"Factorial of 50 is\", factorial(50)) # Calling the function"
      ],
      "metadata": {
        "id": "NM0hWeVUw6JL"
      },
      "execution_count": null,
      "outputs": []
    },
    {
      "cell_type": "markdown",
      "source": [
        "### Input and Output"
      ],
      "metadata": {
        "id": "wwjx3EHCORoS"
      }
    },
    {
      "cell_type": "code",
      "source": [
        "# 7. Input and Output\n",
        "\n",
        "# Getting user input\n",
        "user_input = input(\"Enter your name: \")\n",
        "print(f\"Your name is {user_input}\")"
      ],
      "metadata": {
        "id": "U_uCtVotw8Zl"
      },
      "execution_count": null,
      "outputs": []
    },
    {
      "cell_type": "markdown",
      "source": [
        "### Modules and Packages"
      ],
      "metadata": {
        "id": "hGJhrmz5OUCJ"
      }
    },
    {
      "cell_type": "code",
      "source": [
        "# 8. Modules and Packages\n",
        "\n",
        "# It is recommended to import all modules and packages at the start\n",
        "\n",
        "# Modules and Packages contain pre-written functions and classes that extend Python's capabilities.\n",
        "# Import math module\n",
        "import math\n",
        "print(math.sqrt(25)) # Calculate square root\n",
        "\n",
        "import time # import package\n",
        "print(time.localtime().tm_mday) # print today's date\n",
        "\n",
        "from datetime import datetime as dt # import module with alias\n",
        "print(dt.now().year) # print year\n",
        "\n",
        "print(dt.now().strftime(\"%Y-%m-%d %H:%M:%S\"), f\">>> What timezone is that?\") # print date and time in a specific format"
      ],
      "metadata": {
        "id": "sqJRqqatw-b8"
      },
      "execution_count": null,
      "outputs": []
    },
    {
      "cell_type": "markdown",
      "source": [
        "### File operations"
      ],
      "metadata": {
        "id": "xgQNbZ_0OW38"
      }
    },
    {
      "cell_type": "code",
      "source": [
        "# 9. More advanced I/O operations involve using files (open(), read(), write(), close()).\n",
        "# ... (Code to read and write from/to files)\n",
        "\n",
        "# write into the file (creates the file if it does not exist)\n",
        "with open(\"my_file.txt\", \"w\") as file_content:\n",
        "  file_content.write(\"I'm in the ML bootcamp!\")\n",
        "print(f\"File content: {file_content}\")\n",
        "file_content.close()\n",
        "\n",
        "# append write into the file\n",
        "with open(\"my_file.txt\", \"a\") as file_content:\n",
        "  file_content.write(\"\\nI work hard and play smart!\")\n",
        "print(f\"File content: {file_content}\")\n",
        "file_content.close()\n",
        "\n",
        "# read the file\n",
        "file_input = open(\"my_file.txt\", \"r\")\n",
        "file_content = file_input.read()\n",
        "print(f\"Read-only File content: {file_content}\")\n",
        "file_input.close()\n"
      ],
      "metadata": {
        "id": "f5sXk6ieIVqT"
      },
      "execution_count": null,
      "outputs": []
    },
    {
      "cell_type": "markdown",
      "source": [
        "### Exception Handling"
      ],
      "metadata": {
        "id": "QyOsF7HnOZPY"
      }
    },
    {
      "cell_type": "code",
      "source": [
        "# 10. Exception handling\n",
        "\n",
        "def divide_numbers(numerator, denominator):\n",
        "  print(f\"Calculating {numerator}/{denominator}:\")\n",
        "  try:\n",
        "      # Code that might raise an exception\n",
        "      result = numerator / denominator\n",
        "  except ZeroDivisionError as e:\n",
        "      # Handle specific exception\n",
        "      print(f\"Error: {e}\")\n",
        "  except Exception as e:\n",
        "      # Handle any other exception\n",
        "      print(f\"An unexpected error occurred: {e}\")\n",
        "  else:\n",
        "      # Code to execute if no exception occurs\n",
        "      print(\"Calculation successful\")\n",
        "  finally:\n",
        "      # Code that always executes\n",
        "      print(\"Execution complete\")\n",
        "\n",
        "numerator = 10\n",
        "denominator = 0\n",
        "divide_numbers(numerator, denominator)\n",
        "\n",
        "print(\"\")\n",
        "\n",
        "numerator = 10\n",
        "denominator = 4\n",
        "divide_numbers(numerator, denominator)\n"
      ],
      "metadata": {
        "id": "aQuae_KkIZzb"
      },
      "execution_count": null,
      "outputs": []
    },
    {
      "cell_type": "markdown",
      "source": [
        "Note: This is brief hands-on with Python. There is more to explore on your own!"
      ],
      "metadata": {
        "id": "q2oPje1PPBPy"
      }
    }
  ]
}