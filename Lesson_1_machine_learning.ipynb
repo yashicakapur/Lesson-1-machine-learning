{
  "nbformat": 4,
  "nbformat_minor": 0,
  "metadata": {
    "colab": {
      "provenance": [],
      "include_colab_link": true
    },
    "kernelspec": {
      "name": "python3",
      "display_name": "Python 3"
    },
    "language_info": {
      "name": "python"
    }
  },
  "cells": [
    {
      "cell_type": "markdown",
      "metadata": {
        "id": "view-in-github",
        "colab_type": "text"
      },
      "source": [
        "<a href=\"https://colab.research.google.com/github/yashicakapur/Lesson-1-machine-learning/blob/main/Lesson_1_machine_learning.ipynb\" target=\"_parent\"><img src=\"https://colab.research.google.com/assets/colab-badge.svg\" alt=\"Open In Colab\"/></a>"
      ]
    },
    {
      "cell_type": "markdown",
      "source": [
        "# **1 - Basics**\n",
        "## **Getting Started With Programming**\n",
        "\n",
        "#### **Programming:**\n",
        "- Programming is the process of writing instructions that a computer can understand and execute.\n",
        "- It allows us to automate tasks, analyze data, and build software applications.\n",
        "\n",
        "\n",
        "#### **Typical steps in programming:**\n",
        "1. Define the Problem: Understand what needs to be solved.\n",
        "2. Plan the Solution: Outline the logic and steps required.\n",
        "3. Choose a Programming Language: Select the appropriate language for implementation.\n",
        "4. Write the Code: Implement the logic using the chosen programming language.\n",
        "5. Test the Code: Run and verify if the code produces the expected results.\n",
        "6. Debug and Fix Errors: Identify and correct any mistakes or unexpected behaviors.\n",
        "7. Optimize and Refactor: Improve the code for efficiency and maintainability.\n",
        "8. Deploy the Program: Make the program available for use.\n",
        "9. Maintain and Update: Regularly check and update the program as needed.\n",
        "\n",
        "\n",
        "#### **Writing and Running Code:**\n",
        "- A program is typically written in a text editor and executed using a compiler or interpreter, depending on the language.\n",
        "- Some languages (like Python) are interpreted, while others (like C++) require compilation.\n",
        "\n",
        "Read: https://www.freecodecamp.org/news/compiled-versus-interpreted-languages/\n",
        "\n",
        "\n",
        "#### **Debugging and Error Handling:**\n",
        "- Errors are common in programming. Debugging involves finding and fixing errors (bugs). Common types of errors include:\n",
        "  - Syntax Errors: Mistakes in the code structure.\n",
        "  - Logical Errors: The code runs but produces incorrect results.\n",
        "  - Runtime Errors: Issues that occur during program execution.\n",
        "\n",
        "#### **Best practices in programming:**\n",
        "1. Write Readable Code: Use meaningful variable names and comments.\n",
        "2. Follow the DRY Principle: Don't Repeat Yourself—reuse code through functions and modules.\n",
        "3. Test Your Code: Check for errors and edge cases before deploying a program.\n",
        "4. Use Version Control: Keep track of changes using tools like Git.\n",
        "5. Keep Functions and Modules Small: Ensure that functions perform a single task and keep code modular.\n",
        "6. Handle Errors Gracefully: Implement proper exception handling to prevent crashes.\n",
        "7. Optimize for Performance: Use efficient algorithms and data structures.\n",
        "8. Write Documentation: Maintain proper documentation to make the code understandable.\n",
        "9. Follow Coding Standards: Adhere to industry best practices and style guides.\n",
        "10. Continuously Learn and Improve: Stay updated with new programming trends and best practices.\n",
        "\n",
        "Read: https://peps.python.org/pep-0020/\n",
        "\n"
      ],
      "metadata": {
        "id": "mAjb5HYN9Cbz"
      }
    },
    {
      "cell_type": "markdown",
      "source": [
        "#### **Glossary of Programming Terms**\n",
        "\n",
        "- Algorithm: A step-by-step procedure or formula for solving a problem.\n",
        "- Array: A collection of elements stored in a contiguous block of memory.\n",
        "- Boolean: A data type that represents either true or false.\n",
        "- Bug: An error or flaw in a program that causes unintended behavior.\n",
        "- Class: A blueprint for creating objects in object-oriented programming.\n",
        "- Compiler: A program that translates source code into machine code.\n",
        "- Conditional Statement: A statement that executes different code based on whether a condition is true or false.\n",
        "- Data Structure: A way of organizing and storing data efficiently.\n",
        "- Debugging: The process of identifying and fixing errors in code.\n",
        "- Function: A reusable block of code that performs a specific task.\n",
        "- IDE (Integrated Development Environment): A software application that provides comprehensive tools for coding, debugging, and testing.\n",
        "- Interpreter: A program that executes code line by line instead of compiling it.\n",
        "- Loop: A programming construct that repeats a block of code multiple times.\n",
        "- Method: A function associated with an object or class.\n",
        "- Object: An instance of a class containing data and behavior.\n",
        "- Recursion: A technique where a function calls itself to solve a problem.\n",
        "- Syntax: The rules that define the structure of a valid program in a programming language.\n",
        "- Variable: A symbolic name associated with a value stored in memory.\n",
        "\n"
      ],
      "metadata": {
        "id": "zBj1wX8oFTas"
      }
    },
    {
      "cell_type": "markdown",
      "source": [
        "## **How can we started with Python with easy steps?**\n",
        "\n",
        "#### **Tool for design and coding**\n",
        "Google Colab\n",
        "- https://colab.research.google.com/\n",
        "- Requires a free Google account to store and retrieve files\n",
        "- Click \"Open in Colab\" at the top of this file or upload it manually to Google Colab!\n",
        "\n",
        "\n",
        "#### **Tool for version control**\n",
        "Github\n",
        "- https://github.com/\n",
        "- Create a free account using your Google email\n",
        "- Interactive tutorial: https://learngitbranching.js.org/\n"
      ],
      "metadata": {
        "id": "BYa26Bz9BvUa"
      }
    },
    {
      "cell_type": "markdown",
      "source": [
        "#### **Crash course on programming:**\n",
        "- Watch: https://www.youtube.com/watch?v=l26oaHV7D40&t=359s\n",
        "- Watch: https://www.youtube.com/watch?v=ghCbURMWBD8&list=PLCUMNJ1aL2gwCI8w4zpzRFwlbCiKuhBVG\n",
        "- Read: https://www.freecodecamp.org/news/what-is-programming/"
      ],
      "metadata": {
        "id": "2yON5Ej0G1Z5"
      }
    },
    {
      "cell_type": "markdown",
      "source": [
        "#### Detailed course for learning Python programming:\n",
        "**Python for Beginners - Full Course (Programming Tutorial) - freeCodeCamp.org**\n",
        "[https://www.youtube.com/watch?v=eWRfhZUzrAc]\n",
        "\n",
        "NOTE: We will only briefly skim over Python programming during the bootcamp. You are encouraged to dive deeper with the free resources/references posted."
      ],
      "metadata": {
        "id": "uyQIY7yo_i6_"
      }
    }
  ]
}